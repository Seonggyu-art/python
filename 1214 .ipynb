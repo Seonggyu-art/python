{
 "cells": [
  {
   "cell_type": "code",
   "execution_count": null,
   "metadata": {},
   "outputs": [],
   "source": [
    "%pip install numpy"
   ]
  },
  {
   "cell_type": "code",
   "execution_count": 1,
   "metadata": {},
   "outputs": [],
   "source": [
    "import numpy as np"
   ]
  },
  {
   "cell_type": "code",
   "execution_count": 3,
   "metadata": {},
   "outputs": [
    {
     "name": "stdout",
     "output_type": "stream",
     "text": [
      "[3 1 2]\n"
     ]
    },
    {
     "data": {
      "text/plain": [
       "numpy.ndarray"
      ]
     },
     "execution_count": 3,
     "metadata": {},
     "output_type": "execute_result"
    }
   ],
   "source": [
    "x = np.array([3,1,2])\n",
    "print(x)\n",
    "type(x)"
   ]
  },
  {
   "cell_type": "code",
   "execution_count": 10,
   "metadata": {},
   "outputs": [
    {
     "name": "stdout",
     "output_type": "stream",
     "text": [
      "[1 2 3 4]\n",
      "[0 1 3 4]\n",
      "[2 2 3 2]\n"
     ]
    }
   ],
   "source": [
    "a = [1,2,2,3,4,3,4,3,1]\n",
    "u_a, indexs, counts = np.unique(a, return_index=True, return_counts = True)\n",
    "print(u_a)\n",
    "print(indexs)\n",
    "print(counts)"
   ]
  },
  {
   "cell_type": "code",
   "execution_count": 13,
   "metadata": {},
   "outputs": [
    {
     "name": "stdout",
     "output_type": "stream",
     "text": [
      "2 3 5\n"
     ]
    }
   ],
   "source": [
    "def add(a=1, b=1):\n",
    "    return a,b,a+b\n",
    "a,b,sum = add(2,3)\n",
    "print(a,b,sum)   # a가 a로 들어가고 b가 b로 들어가고 a+b가 sum으로 들어감, 순서는 상관없음."
   ]
  },
  {
   "cell_type": "code",
   "execution_count": 14,
   "metadata": {},
   "outputs": [],
   "source": [
    "# 정렬\n",
    "# sorted 처럼\n",
    "# ndarray.sprt "
   ]
  },
  {
   "cell_type": "code",
   "execution_count": 23,
   "metadata": {},
   "outputs": [
    {
     "name": "stdout",
     "output_type": "stream",
     "text": [
      "a [1 4 2 3]\n",
      "b [1 2 3 4]\n",
      "c [0 2 3 1]\n",
      "cc [1 2 3 4]\n",
      "a [1 2 3 4]\n"
     ]
    }
   ],
   "source": [
    "a = np.array([1,4,2,3])\n",
    "b = np.sort(a)    # a[np.argsort(a)]\n",
    "print(f\"a {a}\")\n",
    "print(f\"b {b}\")\n",
    "c = np.argsort(a)   # 중요하니까 잊어버리지 말기기\n",
    "print(f\"c {c}\")   # 0 2 3 1 이라고 나오는 순번을 잘 봐라라\n",
    "print(f\"cc {a[c]}\")\n",
    "a.sort()\n",
    "print(f\"a {a}\")\n"
   ]
  },
  {
   "cell_type": "code",
   "execution_count": 24,
   "metadata": {},
   "outputs": [
    {
     "name": "stdout",
     "output_type": "stream",
     "text": [
      "a[1 4 2 3]\n",
      "b [1 2 3 4]\n",
      "c [0 2 3 1]\n",
      "cc [1 2 3 4]\n",
      "a [1 2 3 4]\n"
     ]
    }
   ],
   "source": [
    "a = np.array([1,4,2,3])\n",
    "b = np.sort(a)\n",
    "print(f\"a{a}\")\n",
    "print(f\"b {b}\")\n",
    "c = np.argsort(a)\n",
    "print(f\"c {c}\")   \n",
    "print(f\"cc {a[c]}\")\n",
    "a.sort()\n",
    "print(f\"a {a}\")\n"
   ]
  },
  {
   "cell_type": "code",
   "execution_count": 37,
   "metadata": {},
   "outputs": [],
   "source": [
    "# 그 밖에 유용한 함스\n",
    "a = np.array([1,4,2,3])\n"
   ]
  },
  {
   "cell_type": "code",
   "execution_count": null,
   "metadata": {},
   "outputs": [],
   "source": [
    "np.mean(a)  # 평균값"
   ]
  },
  {
   "cell_type": "code",
   "execution_count": 28,
   "metadata": {},
   "outputs": [
    {
     "data": {
      "text/plain": [
       "1.118033988749895"
      ]
     },
     "execution_count": 28,
     "metadata": {},
     "output_type": "execute_result"
    }
   ],
   "source": [
    "np.std(a)  # 표준편차"
   ]
  },
  {
   "cell_type": "code",
   "execution_count": 29,
   "metadata": {},
   "outputs": [
    {
     "data": {
      "text/plain": [
       "1.25"
      ]
     },
     "execution_count": 29,
     "metadata": {},
     "output_type": "execute_result"
    }
   ],
   "source": [
    "np.var(a)  # 분산"
   ]
  },
  {
   "cell_type": "code",
   "execution_count": 30,
   "metadata": {},
   "outputs": [
    {
     "data": {
      "text/plain": [
       "4"
      ]
     },
     "execution_count": 30,
     "metadata": {},
     "output_type": "execute_result"
    }
   ],
   "source": [
    "np.max(a)  # 최댓값"
   ]
  },
  {
   "cell_type": "code",
   "execution_count": 31,
   "metadata": {},
   "outputs": [
    {
     "data": {
      "text/plain": [
       "1"
      ]
     },
     "execution_count": 31,
     "metadata": {},
     "output_type": "execute_result"
    }
   ],
   "source": [
    "np.min(a)  # 최솟값"
   ]
  },
  {
   "cell_type": "code",
   "execution_count": 34,
   "metadata": {},
   "outputs": [
    {
     "data": {
      "text/plain": [
       "10"
      ]
     },
     "execution_count": 34,
     "metadata": {},
     "output_type": "execute_result"
    }
   ],
   "source": [
    "np.sum(a)  # 함"
   ]
  },
  {
   "cell_type": "code",
   "execution_count": 35,
   "metadata": {},
   "outputs": [
    {
     "data": {
      "text/plain": [
       "24"
      ]
     },
     "execution_count": 35,
     "metadata": {},
     "output_type": "execute_result"
    }
   ],
   "source": [
    "np.prod(a)  # 곱"
   ]
  },
  {
   "cell_type": "code",
   "execution_count": 39,
   "metadata": {},
   "outputs": [
    {
     "name": "stdout",
     "output_type": "stream",
     "text": [
      "[1 2 3]\n"
     ]
    }
   ],
   "source": [
    "a = np.sort(x, axis=0)\n",
    "print(a)"
   ]
  },
  {
   "cell_type": "code",
   "execution_count": 46,
   "metadata": {},
   "outputs": [],
   "source": [
    "# a = np.sort(x, axis = 1)\n",
    "# print(a)"
   ]
  },
  {
   "cell_type": "code",
   "execution_count": 44,
   "metadata": {},
   "outputs": [],
   "source": [
    "# 실습. Numpy 모듈 사용해보기 2\n",
    "# [1,1,2,3,4,5,5,5,5,8,9,10,11,24,100]\n",
    "# 위와 같은 데이터가 있을때\n",
    "# 1. 중복을 제거한 배열 출력\n",
    "# 2. 1의 결과의 최대, 최소, 평균값 출력\n",
    "# 3. 1의 결과의 모든 합 출력\n",
    "# 4. 중복을 제거하지 않은 배열의 중간값 출력\n"
   ]
  },
  {
   "cell_type": "code",
   "execution_count": 48,
   "metadata": {},
   "outputs": [
    {
     "name": "stdout",
     "output_type": "stream",
     "text": [
      "[  1   2   3   4   5   8   9  10  11  24 100]\n",
      "100\n",
      "1\n",
      "16.09090909090909\n",
      "177\n",
      "5.0\n"
     ]
    }
   ],
   "source": [
    "b = [1,1,2,3,4,5,5,5,5,8,9,10,11,24,100]\n",
    "u_b = np. unique(b)  # 유니크가 중복제거거\n",
    "print(u_b)\n",
    "print(np.max(u_b))\n",
    "print(np.min(u_b))\n",
    "print(np.mean(u_b))\n",
    "print(np.sum(u_b))\n",
    "print(np.median(b))"
   ]
  },
  {
   "cell_type": "code",
   "execution_count": 49,
   "metadata": {},
   "outputs": [],
   "source": [
    "# 실습. Numpy 모듈 사용해보기3\n",
    "# x = np.arange(15, dtype=np.int64).reshape(3, 5)\n",
    "# x[1:, ::2] = -99\n",
    "# 위와 같은 데이터가 있을 때\n",
    "# 1. 1열의 최대, 최소, 평균값 출력\n",
    "# 2. 2행의 모든 합 출력\n",
    "# 3. argsort 이용하여 axis=1 기준으로 오름차순, 내림차순 정렬\n",
    "\n",
    "# 갑자기 수정함. 밑에 있는걸로 풀기"
   ]
  },
  {
   "cell_type": "code",
   "execution_count": 50,
   "metadata": {},
   "outputs": [],
   "source": [
    "# 실습. Numpy 모듈 사용해보기3\n",
    "# x = np.arange(15, dtype=np.int64).reshape(3, 5)\n",
    "# x[1:, ::2] = -99\n",
    "# 위와 같은 데이터가 있을 때\n",
    "# 1. 1열의 최대, 최소, 평균값 출력\n",
    "# 2. 2행의 모든 합 출력\n",
    "# 3. 실습 2번 1차원 배열을 argsort 이용하여 내림차순 정렬"
   ]
  },
  {
   "cell_type": "code",
   "execution_count": 60,
   "metadata": {},
   "outputs": [
    {
     "name": "stdout",
     "output_type": "stream",
     "text": [
      "중복 제거된 배열: [  1   2   3   4   5   8   9  10  11  24 100]\n",
      "내림차순 정렬된 배열: [100  24  11  10   9   8   5   4   3   2   1]\n"
     ]
    }
   ],
   "source": [
    "import numpy as np\n",
    "\n",
    "# 데이터 정의\n",
    "b = [1, 1, 2, 3, 4, 5, 5, 5, 5, 8, 9, 10, 11, 24, 100]\n",
    "\n",
    "# 1. 중복 제거\n",
    "u_b = np.unique(b)\n",
    "print(\"중복 제거된 배열:\", u_b)\n",
    "\n",
    "# 2. 내림차순 정렬\n",
    "sorted_indices = np.argsort(u_b)[::-1]  # 내림차순 정렬된 인덱스\n",
    "sorted_u_b = u_b[sorted_indices]\n",
    "print(\"내림차순 정렬된 배열:\", sorted_u_b)\n"
   ]
  },
  {
   "cell_type": "code",
   "execution_count": 63,
   "metadata": {},
   "outputs": [
    {
     "name": "stdout",
     "output_type": "stream",
     "text": [
      "[[ 0  1  2  3  4]\n",
      " [ 5  6  7  8  9]\n",
      " [10 11 12 13 14]]\n"
     ]
    }
   ],
   "source": [
    "print(x)"
   ]
  },
  {
   "cell_type": "code",
   "execution_count": 65,
   "metadata": {},
   "outputs": [
    {
     "data": {
      "text/plain": [
       "6"
      ]
     },
     "execution_count": 65,
     "metadata": {},
     "output_type": "execute_result"
    }
   ],
   "source": [
    "x[1,1]"
   ]
  },
  {
   "cell_type": "code",
   "execution_count": 67,
   "metadata": {},
   "outputs": [
    {
     "data": {
      "text/plain": [
       "14"
      ]
     },
     "execution_count": 67,
     "metadata": {},
     "output_type": "execute_result"
    }
   ],
   "source": [
    "x[-1,-1]"
   ]
  },
  {
   "cell_type": "code",
   "execution_count": 69,
   "metadata": {},
   "outputs": [
    {
     "data": {
      "text/plain": [
       "array([ 0,  5, 10], dtype=int64)"
      ]
     },
     "execution_count": 69,
     "metadata": {},
     "output_type": "execute_result"
    }
   ],
   "source": [
    "x[:,0]"
   ]
  },
  {
   "cell_type": "code",
   "execution_count": 71,
   "metadata": {},
   "outputs": [
    {
     "data": {
      "text/plain": [
       "array([5, 6, 7, 8, 9], dtype=int64)"
      ]
     },
     "execution_count": 71,
     "metadata": {},
     "output_type": "execute_result"
    }
   ],
   "source": [
    "x[1,:]"
   ]
  },
  {
   "cell_type": "code",
   "execution_count": 74,
   "metadata": {},
   "outputs": [
    {
     "data": {
      "text/plain": [
       "array([[0, 1],\n",
       "       [5, 6]], dtype=int64)"
      ]
     },
     "execution_count": 74,
     "metadata": {},
     "output_type": "execute_result"
    }
   ],
   "source": [
    "x[:2,:2]"
   ]
  },
  {
   "cell_type": "code",
   "execution_count": 76,
   "metadata": {},
   "outputs": [
    {
     "data": {
      "text/plain": [
       "array([[ 8,  9],\n",
       "       [13, 14]], dtype=int64)"
      ]
     },
     "execution_count": 76,
     "metadata": {},
     "output_type": "execute_result"
    }
   ],
   "source": [
    "x[-2:,-2:]"
   ]
  },
  {
   "cell_type": "code",
   "execution_count": 79,
   "metadata": {},
   "outputs": [
    {
     "name": "stdout",
     "output_type": "stream",
     "text": [
      "10\n",
      "0\n",
      "5.0\n"
     ]
    }
   ],
   "source": [
    "print(np.max(x, axis=0)[0])\n",
    "print(np.min(x, axis=0)[0])\n",
    "print(np.mean(x, axis=0)[0])"
   ]
  },
  {
   "cell_type": "code",
   "execution_count": 81,
   "metadata": {},
   "outputs": [
    {
     "name": "stdout",
     "output_type": "stream",
     "text": [
      "60\n"
     ]
    }
   ],
   "source": [
    "print(np.sum(x, axis=1)[2])"
   ]
  },
  {
   "cell_type": "code",
   "execution_count": 1,
   "metadata": {},
   "outputs": [],
   "source": [
    "# arg_x = np.argsort(data)\n",
    "# print(data[arg_x])"
   ]
  },
  {
   "cell_type": "code",
   "execution_count": null,
   "metadata": {},
   "outputs": [],
   "source": []
  },
  {
   "cell_type": "code",
   "execution_count": null,
   "metadata": {},
   "outputs": [],
   "source": []
  }
 ],
 "metadata": {
  "kernelspec": {
   "display_name": "base",
   "language": "python",
   "name": "python3"
  },
  "language_info": {
   "codemirror_mode": {
    "name": "ipython",
    "version": 3
   },
   "file_extension": ".py",
   "mimetype": "text/x-python",
   "name": "python",
   "nbconvert_exporter": "python",
   "pygments_lexer": "ipython3",
   "version": "3.12.7"
  }
 },
 "nbformat": 4,
 "nbformat_minor": 2
}
